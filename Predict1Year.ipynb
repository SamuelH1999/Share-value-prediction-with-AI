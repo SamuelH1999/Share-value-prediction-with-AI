{
 "cells": [
  {
   "cell_type": "markdown",
   "id": "5ac4dcf2",
   "metadata": {},
   "source": [
    "# Import librarys"
   ]
  },
  {
   "cell_type": "code",
   "execution_count": 1,
   "id": "64238bcd",
   "metadata": {},
   "outputs": [],
   "source": [
    "from keras.models import load_model\n",
    "from keras.metrics import MeanSquaredError\n",
    "from sklearn.base import BaseEstimator\n",
    "from keras.models import Model\n",
    "import pandas as pd\n",
    "import matplotlib.pyplot as plt\n",
    "from sklearn.preprocessing import MinMaxScaler\n",
    "from sklearn.model_selection import train_test_split\n",
    "import numpy as np\n",
    "from sklearn.preprocessing import MinMaxScaler\n",
    "import tensorflow as tf\n",
    "from tensorflow.keras.models import Sequential\n",
    "from tensorflow.keras.layers import LSTM, Dense, Dropout\n",
    "from sklearn.model_selection import RandomizedSearchCV\n",
    "from sklearn.metrics import mean_squared_error\n",
    "from sklearn.model_selection import TimeSeriesSplit\n",
    "import keras\n",
    "from keras.callbacks import History\n",
    "from tensorflow.keras.models import Sequential\n",
    "from tensorflow.keras.layers import Dense\n",
    "from tensorflow.keras.optimizers import Adam\n",
    "import keras\n",
    "from scikeras.wrappers import KerasRegressor\n",
    "from keras.layers import Input\n",
    "from keras.optimizers import RMSprop\n",
    "import yfinance as yf\n",
    "from matplotlib.backends.backend_pdf import PdfPages\n",
    "import pickle"
   ]
  },
  {
   "cell_type": "markdown",
   "id": "b98f82c3",
   "metadata": {},
   "source": [
    "# CSV einlesen"
   ]
  },
  {
   "cell_type": "code",
   "execution_count": 2,
   "id": "c86ee6f7",
   "metadata": {},
   "outputs": [],
   "source": [
    "def download_stock_data(stock_symbols, start_date, end_date, output_file):\n",
    "    with open(output_file, 'w') as f:\n",
    "        # Write column headings\n",
    "        f.write('Date,Open,High,Low,Close,Volume\\n')\n",
    "        \n",
    "        for symbol in stock_symbols:\n",
    "            # Load the share data for every symbol and the defined time period\n",
    "            stock_data = yf.download(symbol, start=start_date, end=end_date)\n",
    "            stock_data = stock_data[['Open', 'High', 'Low', 'Close', 'Volume']]  # Auswahl der gewünschten Spalten\n",
    "            stock_data.to_csv(f, header=False)  # Schreiben der Daten in die Datei\n"
   ]
  },
  {
   "cell_type": "code",
   "execution_count": 3,
   "id": "77172612",
   "metadata": {},
   "outputs": [
    {
     "name": "stderr",
     "output_type": "stream",
     "text": [
      "[*********************100%%**********************]  1 of 1 completed\n"
     ]
    }
   ],
   "source": [
    "# Define time period and symbol\n",
    "stock_symbols = ['EOAN.DE']\n",
    "start_date = '2000-01-01'\n",
    "end_date = '2018-12-31'\n",
    "output_file = 'stock_data.csv'\n",
    "\n",
    "# Load and store the share data\n",
    "download_stock_data(stock_symbols, start_date, end_date, output_file)\n",
    "\n",
    "# Search and delete empty rows in the CSV file\n",
    "with open(output_file, 'r') as file:\n",
    "    lines = file.readlines()\n",
    "\n",
    "# Filter empty rows\n",
    "lines = [line.strip() for line in lines if line.strip()]\n",
    "\n",
    "# Overwrite the file with the cleaned rows\n",
    "with open(output_file, 'w') as file:\n",
    "    file.write('\\n'.join(lines))"
   ]
  },
  {
   "cell_type": "code",
   "execution_count": 4,
   "id": "7f5950e2",
   "metadata": {},
   "outputs": [
    {
     "name": "stdout",
     "output_type": "stream",
     "text": [
      "                 Open       High        Low      Close    Volume\n",
      "Date                                                            \n",
      "2000-01-03  14.938904  14.999324  14.506899  14.606593   4605397\n",
      "2000-01-04  14.682118  14.682118  13.745604  14.289386   5286301\n",
      "2000-01-05  14.029579  14.558257  13.957075  14.500857   6279352\n",
      "2000-01-06  14.518983  14.923799  14.518983  14.700244   5856699\n",
      "2000-01-07  14.802959  15.102039  14.597530  14.802959   5382206\n",
      "...               ...        ...        ...        ...       ...\n",
      "2018-12-19   8.897000   8.999000   8.883000   8.965000  10697273\n",
      "2018-12-20   8.889000   8.944000   8.813000   8.895000  12874187\n",
      "2018-12-21   8.915000   8.939000   8.783000   8.864000  18955695\n",
      "2018-12-27   8.829000   8.830000   8.419000   8.524000  14212275\n",
      "2018-12-28   8.550000   8.643000   8.498000   8.627000   5684732\n",
      "\n",
      "[4865 rows x 5 columns]\n",
      "4865\n"
     ]
    }
   ],
   "source": [
    "# load CSV\n",
    "df = pd.read_csv('stock_data.csv')\n",
    "\n",
    "# transform date to index\n",
    "df.set_index('Date', inplace=True)\n",
    "\n",
    "# Duplicate the dataset\n",
    "#df = pd.concat([df] * 2, ignore_index=True)\n",
    "\n",
    "# Show first rows\n",
    "print(df)\n",
    "print(len(df))"
   ]
  },
  {
   "cell_type": "code",
   "execution_count": 5,
   "id": "563e76dc",
   "metadata": {},
   "outputs": [
    {
     "name": "stdout",
     "output_type": "stream",
     "text": [
      "Fehlende Werte vor der Behandlung gefunden: False\n",
      "Fehlende Werte nach der Behandlung gefunden: False\n"
     ]
    }
   ],
   "source": [
    "# Check, if there are any missing numbers\n",
    "missing_values_before = df.isnull().values.any()\n",
    "\n",
    "# Treat missing values with the mean of the previous and the following row\n",
    "for column in df.columns:\n",
    "    missing_values = df[column].isnull()\n",
    "    df.loc[missing_values, column] = (df[column].shift() + df[column].shift(-1)) / 2\n",
    "\n",
    "# Check, if there are missing values after the Treatment\n",
    "missing_values_after = df.isnull().values.any()\n",
    "\n",
    "# Output of the missing values before and after the Treatment\n",
    "print(\"Fehlende Werte vor der Behandlung gefunden:\", missing_values_before)\n",
    "print(\"Fehlende Werte nach der Behandlung gefunden:\", missing_values_after)"
   ]
  },
  {
   "cell_type": "code",
   "execution_count": 6,
   "id": "349e97c3",
   "metadata": {},
   "outputs": [
    {
     "name": "stdout",
     "output_type": "stream",
     "text": [
      "                 Open       High        Low      Close   Volume\n",
      "Date                                                           \n",
      "2000-01-03  14.938904  14.999324  14.506899  14.606593  4605397\n",
      "2000-01-04  14.682118  14.682118  13.745604  14.289386  5286301\n",
      "2000-01-05  14.029579  14.558257  13.957075  14.500857  6279352\n",
      "2000-01-06  14.518983  14.923799  14.518983  14.700244  5856699\n",
      "2000-01-07  14.802959  15.102039  14.597530  14.802959  5382206\n"
     ]
    }
   ],
   "source": [
    "# show first rows\n",
    "print(df.head())"
   ]
  },
  {
   "cell_type": "markdown",
   "id": "70d732ee",
   "metadata": {},
   "source": [
    "# Data normalization"
   ]
  },
  {
   "cell_type": "code",
   "execution_count": 7,
   "id": "1b22f89f",
   "metadata": {},
   "outputs": [
    {
     "name": "stdout",
     "output_type": "stream",
     "text": [
      "                Open      High       Low     Close    Volume\n",
      "2000-01-03  0.222673  0.220433  0.214866  0.213617  0.034988\n",
      "2000-01-04  0.216248  0.212597  0.195653  0.205711  0.040161\n",
      "2000-01-05  0.199920  0.209538  0.200990  0.210982  0.047706\n",
      "2000-01-06  0.212166  0.218568  0.215171  0.215951  0.044495\n",
      "2000-01-07  0.219271  0.222971  0.217153  0.218510  0.040890\n",
      "Länge des Datensatzes: 4865\n"
     ]
    }
   ],
   "source": [
    "# Copy the data frame and remove the column \"date\"\n",
    "nf = df.copy()\n",
    "\n",
    "# Remove the index name\n",
    "nf.index.name = None\n",
    "\n",
    "# normalize the data, except the \"date\" (index)\n",
    "scaler = MinMaxScaler()\n",
    "nf_normalized = scaler.fit_transform(nf)\n",
    "\n",
    "# Create a new data frame with the normalized data and the original index\n",
    "nf = pd.DataFrame(nf_normalized, columns=nf.columns, index=nf.index)\n",
    "\n",
    "# Show the normalized data\n",
    "print(nf.head())\n",
    "\n",
    "# Show the length of the data frame\n",
    "print(\"Länge des Datensatzes:\", len(nf))"
   ]
  },
  {
   "cell_type": "code",
   "execution_count": 8,
   "id": "a47704f9",
   "metadata": {},
   "outputs": [],
   "source": [
    "# save scaler\n",
    "with open('scaler.pkl', 'wb') as f:\n",
    "    pickle.dump(scaler, f)"
   ]
  },
  {
   "cell_type": "markdown",
   "id": "69186c2e",
   "metadata": {},
   "source": [
    "# read predicting sequence"
   ]
  },
  {
   "cell_type": "code",
   "execution_count": 9,
   "id": "074f3def",
   "metadata": {},
   "outputs": [
    {
     "name": "stderr",
     "output_type": "stream",
     "text": [
      "[*********************100%%**********************]  1 of 1 completed\n"
     ]
    }
   ],
   "source": [
    "# Define time period and output file\n",
    "start_date = '2018-10-01'\n",
    "end_date = '2018-12-31'\n",
    "output_file = 'stock_data_pre.csv'\n",
    "\n",
    "# Load and store the share data\n",
    "download_stock_data(stock_symbols, start_date, end_date, output_file)\n",
    "\n",
    "# Search and delete the empty rows in the CSV file\n",
    "with open(output_file, 'r') as file:\n",
    "    lines = file.readlines()\n",
    "\n",
    "# Filter the empty rows\n",
    "lines = [line.strip() for line in lines if line.strip()]\n",
    "\n",
    "# Overwrite the file with the cleaned rows\n",
    "with open(output_file, 'w') as file:\n",
    "    file.write('\\n'.join(lines))"
   ]
  },
  {
   "cell_type": "code",
   "execution_count": 10,
   "id": "e8e1a329",
   "metadata": {},
   "outputs": [
    {
     "name": "stdout",
     "output_type": "stream",
     "text": [
      "             Open   High    Low  Close    Volume\n",
      "Date                                            \n",
      "2018-10-02  8.676  8.779  8.670  8.755   7893203\n",
      "2018-10-04  8.670  8.728  8.620  8.680  11358580\n",
      "2018-10-05  8.681  8.737  8.603  8.643  12532924\n",
      "2018-10-08  8.600  8.664  8.513  8.532   7409361\n",
      "2018-10-09  8.527  8.631  8.468  8.601   9414644\n"
     ]
    }
   ],
   "source": [
    "# load CSV\n",
    "dfPre = pd.read_csv('stock_data_pre.csv')\n",
    "\n",
    "# Drop empty rows\n",
    "dfPre.dropna(inplace=True)\n",
    "\n",
    "# transform date to index\n",
    "dfPre.set_index('Date', inplace=True)\n",
    "\n",
    "# Check the number of rows\n",
    "num_rows = dfPre.shape[0]\n",
    "\n",
    "# If more than 60 rows, keep the last 60 rows\n",
    "if num_rows > 60:\n",
    "    dfPre = dfPre.tail(60)\n",
    "\n",
    "# Show first rows\n",
    "print(dfPre.head())"
   ]
  },
  {
   "cell_type": "code",
   "execution_count": 11,
   "id": "b63ed050",
   "metadata": {},
   "outputs": [
    {
     "name": "stdout",
     "output_type": "stream",
     "text": [
      "Fehlende Werte vor der Behandlung gefunden: False\n",
      "Fehlende Werte nach der Behandlung gefunden: False\n",
      "60\n"
     ]
    }
   ],
   "source": [
    "# Check, if there are missing values before the treatment\n",
    "missing_values_beforePre = dfPre.isnull().values.any()\n",
    "\n",
    "# Treat missing values for all columns with the mean of the previous and following row\n",
    "for column in df.columns:\n",
    "    missing_valuesPre = dfPre[column].isnull()\n",
    "    dfPre.loc[missing_valuesPre, column] = (dfPre[column].shift() + dfPre[column].shift(-1)) / 2\n",
    "\n",
    "# Check, if there are missing values after the treatment\n",
    "missing_values_afterPre = dfPre.isnull().values.any()\n",
    "\n",
    "# Output of the missing values before and after the treatment\n",
    "print(\"Fehlende Werte vor der Behandlung gefunden:\", missing_values_beforePre)\n",
    "print(\"Fehlende Werte nach der Behandlung gefunden:\", missing_values_afterPre)\n",
    "\n",
    "# show lenth of data set\n",
    "print(len(dfPre))"
   ]
  },
  {
   "cell_type": "markdown",
   "id": "b6894f0f",
   "metadata": {},
   "source": [
    "# Data normalization prediction data"
   ]
  },
  {
   "cell_type": "code",
   "execution_count": 12,
   "id": "bda529dd",
   "metadata": {},
   "outputs": [
    {
     "name": "stdout",
     "output_type": "stream",
     "text": [
      "Länge des Datensatzes: 60\n"
     ]
    }
   ],
   "source": [
    "# Copy the data frame and remove the column \"date\"\n",
    "nfPre = dfPre.copy()\n",
    "\n",
    "# Remove the index name\n",
    "nfPre.index.name = None\n",
    "\n",
    "# Normalize the data, except the \"date\" (Index)\n",
    "nfPre_normalized = scaler.fit_transform(nfPre)\n",
    "\n",
    "# Create a data frame with the normalized data and the original index\n",
    "nfPre = pd.DataFrame(nfPre_normalized, columns=nfPre.columns, index=nfPre.index)\n",
    "\n",
    "# Convert DataFrame to NumPy array\n",
    "nfPre = nfPre.to_numpy()\n",
    "\n",
    "# Show length of the data frame\n",
    "print(\"Länge des Datensatzes:\", len(nfPre))\n"
   ]
  },
  {
   "cell_type": "markdown",
   "id": "39dc3682",
   "metadata": {},
   "source": [
    "# Create Sequences"
   ]
  },
  {
   "cell_type": "code",
   "execution_count": 13,
   "id": "4489b488",
   "metadata": {},
   "outputs": [],
   "source": [
    "# Function to create sequenences for LSTM model\n",
    "def create_sequences(data_input, seq_length):\n",
    "    data = data_input\n",
    "    X, y = [], []\n",
    "    for i in range(len(data) - seq_length - 252):\n",
    "        X.append(data[i:i+seq_length])\n",
    "        y.append(data.iloc[i+seq_length+252]) # acess to Close-Value of the 252th row\n",
    "    return np.array(X), np.array(y)"
   ]
  },
  {
   "cell_type": "code",
   "execution_count": 14,
   "id": "305f39cc",
   "metadata": {},
   "outputs": [],
   "source": [
    "# create sequence\n",
    "sequence_length = 60\n",
    "X, y = create_sequences(nf, sequence_length)"
   ]
  },
  {
   "cell_type": "markdown",
   "id": "59d71c64",
   "metadata": {},
   "source": [
    "# Split the data in Training, Test and validation"
   ]
  },
  {
   "cell_type": "code",
   "execution_count": 15,
   "id": "8deee9f6",
   "metadata": {},
   "outputs": [
    {
     "name": "stdout",
     "output_type": "stream",
     "text": [
      "Trainingsdaten: 3113\n",
      "Validierungsdaten: 779\n",
      "Testdaten: 973\n"
     ]
    }
   ],
   "source": [
    "# Split data in training and test (80% training, 20% test)\n",
    "train_data, test_data = train_test_split(nf, test_size=0.2, shuffle=False)\n",
    "\n",
    "# Split data in training and validation (80% training, 20% validation)\n",
    "train_data, val_data = train_test_split(train_data, test_size=0.2, shuffle=False)\n",
    "\n",
    "# Split the train data in sequences\n",
    "X_train, y_train = create_sequences(train_data, sequence_length)\n",
    "\n",
    "# Split the validation data in sequences\n",
    "X_val, y_val = create_sequences(val_data, sequence_length)\n",
    "\n",
    "# Split the test data in sequences\n",
    "X_test, y_test = create_sequences(test_data, sequence_length)\n",
    "\n",
    "# show training, validation and test sets\n",
    "print(\"Trainingsdaten:\", len(train_data))\n",
    "print(\"Validierungsdaten:\", len(val_data))\n",
    "print(\"Testdaten:\", len(test_data))"
   ]
  },
  {
   "cell_type": "code",
   "execution_count": 16,
   "id": "7599c0b1",
   "metadata": {},
   "outputs": [],
   "source": [
    "# Define train_size, val_size and test_size\n",
    "train_size = len(train_data)\n",
    "val_size = len(val_data)\n",
    "test_size = len(test_data)\n",
    "nfPre_size = len(nfPre)\n",
    "\n",
    "# Extract features and target variables for training, validation, and test sets\n",
    "X_train, y_train = X[:train_size], y[:train_size]\n",
    "X_val, y_val = X[train_size:train_size+val_size], y[train_size:train_size+val_size]\n",
    "X_test, y_test = X[train_size+val_size:], y[train_size+val_size:]\n",
    "# Add a external dimension\n",
    "X_pre = np.expand_dims(nfPre[:nfPre_size], axis=0)\n"
   ]
  },
  {
   "cell_type": "code",
   "execution_count": 17,
   "id": "9da05eb2",
   "metadata": {},
   "outputs": [],
   "source": [
    "# Convert the train, val and prediction data into tensors\n",
    "X_train_tensor = tf.convert_to_tensor(X_train, dtype=tf.float32)\n",
    "y_train_tensor = tf.convert_to_tensor(y_train, dtype=tf.float32)\n",
    "X_val_tensor = tf.convert_to_tensor(X_val, dtype=tf.float32)\n",
    "y_val_tensor = tf.convert_to_tensor(y_val, dtype=tf.float32)\n",
    "X_pre_tensor = tf.convert_to_tensor(X_pre, dtype=tf.float32)"
   ]
  },
  {
   "cell_type": "markdown",
   "id": "0a276f39",
   "metadata": {},
   "source": [
    "# Define model"
   ]
  },
  {
   "cell_type": "code",
   "execution_count": 18,
   "id": "182d8af9",
   "metadata": {},
   "outputs": [],
   "source": [
    "# Define the hyper parameters\n",
    "units = 25\n",
    "learning_rate = 0.003\n",
    "optimizer = Adam(learning_rate=learning_rate)\n",
    "dropout_rate = 0.5\n",
    "batch_size = 128\n",
    "epochs = 10"
   ]
  },
  {
   "cell_type": "code",
   "execution_count": 19,
   "id": "020b49f1",
   "metadata": {},
   "outputs": [],
   "source": [
    "# Define input layer\n",
    "input_layer = Input(shape=(sequence_length, 5))\n",
    "\n",
    "# create model\n",
    "model = Sequential([\n",
    "    LSTM(units=units, return_sequences=True),\n",
    "    Dropout(dropout_rate),\n",
    "    LSTM(units=units, return_sequences=False),\n",
    "    Dropout(dropout_rate),\n",
    "    Dense(units=5)  # Anpassen der Anzahl der Ausgabeneinheiten auf 5 für 5 Input-Variablen\n",
    "])\n",
    "\n",
    "# Compile the model\n",
    "model.compile(optimizer=optimizer, loss='mean_squared_error')"
   ]
  },
  {
   "cell_type": "markdown",
   "id": "25ab1567",
   "metadata": {},
   "source": [
    "# Evaluate model"
   ]
  },
  {
   "cell_type": "code",
   "execution_count": 20,
   "id": "f5c5f2ad",
   "metadata": {},
   "outputs": [
    {
     "name": "stdout",
     "output_type": "stream",
     "text": [
      "Epoch 1/10\n",
      "\u001b[1m25/25\u001b[0m \u001b[32m━━━━━━━━━━━━━━━━━━━━\u001b[0m\u001b[37m\u001b[0m \u001b[1m3s\u001b[0m 34ms/step - loss: 0.1124 - val_loss: 0.0076\n",
      "Epoch 2/10\n",
      "\u001b[1m25/25\u001b[0m \u001b[32m━━━━━━━━━━━━━━━━━━━━\u001b[0m\u001b[37m\u001b[0m \u001b[1m1s\u001b[0m 23ms/step - loss: 0.0314 - val_loss: 0.0067\n",
      "Epoch 3/10\n",
      "\u001b[1m25/25\u001b[0m \u001b[32m━━━━━━━━━━━━━━━━━━━━\u001b[0m\u001b[37m\u001b[0m \u001b[1m1s\u001b[0m 24ms/step - loss: 0.0270 - val_loss: 0.0112\n",
      "Epoch 4/10\n",
      "\u001b[1m25/25\u001b[0m \u001b[32m━━━━━━━━━━━━━━━━━━━━\u001b[0m\u001b[37m\u001b[0m \u001b[1m1s\u001b[0m 24ms/step - loss: 0.0253 - val_loss: 0.0085\n",
      "Epoch 5/10\n",
      "\u001b[1m25/25\u001b[0m \u001b[32m━━━━━━━━━━━━━━━━━━━━\u001b[0m\u001b[37m\u001b[0m \u001b[1m1s\u001b[0m 25ms/step - loss: 0.0214 - val_loss: 0.0059\n",
      "Epoch 6/10\n",
      "\u001b[1m25/25\u001b[0m \u001b[32m━━━━━━━━━━━━━━━━━━━━\u001b[0m\u001b[37m\u001b[0m \u001b[1m1s\u001b[0m 24ms/step - loss: 0.0218 - val_loss: 0.0119\n",
      "Epoch 7/10\n",
      "\u001b[1m25/25\u001b[0m \u001b[32m━━━━━━━━━━━━━━━━━━━━\u001b[0m\u001b[37m\u001b[0m \u001b[1m1s\u001b[0m 24ms/step - loss: 0.0185 - val_loss: 0.0074\n",
      "Epoch 8/10\n",
      "\u001b[1m25/25\u001b[0m \u001b[32m━━━━━━━━━━━━━━━━━━━━\u001b[0m\u001b[37m\u001b[0m \u001b[1m1s\u001b[0m 24ms/step - loss: 0.0159 - val_loss: 0.0052\n",
      "Epoch 9/10\n",
      "\u001b[1m25/25\u001b[0m \u001b[32m━━━━━━━━━━━━━━━━━━━━\u001b[0m\u001b[37m\u001b[0m \u001b[1m1s\u001b[0m 25ms/step - loss: 0.0145 - val_loss: 0.0071\n",
      "Epoch 10/10\n",
      "\u001b[1m25/25\u001b[0m \u001b[32m━━━━━━━━━━━━━━━━━━━━\u001b[0m\u001b[37m\u001b[0m \u001b[1m1s\u001b[0m 25ms/step - loss: 0.0141 - val_loss: 0.0092\n"
     ]
    },
    {
     "data": {
      "text/html": [
       "<pre style=\"white-space:pre;overflow-x:auto;line-height:normal;font-family:Menlo,'DejaVu Sans Mono',consolas,'Courier New',monospace\"><span style=\"font-weight: bold\">Model: \"sequential\"</span>\n",
       "</pre>\n"
      ],
      "text/plain": [
       "\u001b[1mModel: \"sequential\"\u001b[0m\n"
      ]
     },
     "metadata": {},
     "output_type": "display_data"
    },
    {
     "data": {
      "text/html": [
       "<pre style=\"white-space:pre;overflow-x:auto;line-height:normal;font-family:Menlo,'DejaVu Sans Mono',consolas,'Courier New',monospace\">┏━━━━━━━━━━━━━━━━━━━━━━━━━━━━━━━━━┳━━━━━━━━━━━━━━━━━━━━━━━━┳━━━━━━━━━━━━━━━┓\n",
       "┃<span style=\"font-weight: bold\"> Layer (type)                    </span>┃<span style=\"font-weight: bold\"> Output Shape           </span>┃<span style=\"font-weight: bold\">       Param # </span>┃\n",
       "┡━━━━━━━━━━━━━━━━━━━━━━━━━━━━━━━━━╇━━━━━━━━━━━━━━━━━━━━━━━━╇━━━━━━━━━━━━━━━┩\n",
       "│ lstm (<span style=\"color: #0087ff; text-decoration-color: #0087ff\">LSTM</span>)                     │ (<span style=\"color: #00d7ff; text-decoration-color: #00d7ff\">None</span>, <span style=\"color: #00af00; text-decoration-color: #00af00\">60</span>, <span style=\"color: #00af00; text-decoration-color: #00af00\">25</span>)         │         <span style=\"color: #00af00; text-decoration-color: #00af00\">3,100</span> │\n",
       "├─────────────────────────────────┼────────────────────────┼───────────────┤\n",
       "│ dropout (<span style=\"color: #0087ff; text-decoration-color: #0087ff\">Dropout</span>)               │ (<span style=\"color: #00d7ff; text-decoration-color: #00d7ff\">None</span>, <span style=\"color: #00af00; text-decoration-color: #00af00\">60</span>, <span style=\"color: #00af00; text-decoration-color: #00af00\">25</span>)         │             <span style=\"color: #00af00; text-decoration-color: #00af00\">0</span> │\n",
       "├─────────────────────────────────┼────────────────────────┼───────────────┤\n",
       "│ lstm_1 (<span style=\"color: #0087ff; text-decoration-color: #0087ff\">LSTM</span>)                   │ (<span style=\"color: #00d7ff; text-decoration-color: #00d7ff\">None</span>, <span style=\"color: #00af00; text-decoration-color: #00af00\">25</span>)             │         <span style=\"color: #00af00; text-decoration-color: #00af00\">5,100</span> │\n",
       "├─────────────────────────────────┼────────────────────────┼───────────────┤\n",
       "│ dropout_1 (<span style=\"color: #0087ff; text-decoration-color: #0087ff\">Dropout</span>)             │ (<span style=\"color: #00d7ff; text-decoration-color: #00d7ff\">None</span>, <span style=\"color: #00af00; text-decoration-color: #00af00\">25</span>)             │             <span style=\"color: #00af00; text-decoration-color: #00af00\">0</span> │\n",
       "├─────────────────────────────────┼────────────────────────┼───────────────┤\n",
       "│ dense (<span style=\"color: #0087ff; text-decoration-color: #0087ff\">Dense</span>)                   │ (<span style=\"color: #00d7ff; text-decoration-color: #00d7ff\">None</span>, <span style=\"color: #00af00; text-decoration-color: #00af00\">5</span>)              │           <span style=\"color: #00af00; text-decoration-color: #00af00\">130</span> │\n",
       "└─────────────────────────────────┴────────────────────────┴───────────────┘\n",
       "</pre>\n"
      ],
      "text/plain": [
       "┏━━━━━━━━━━━━━━━━━━━━━━━━━━━━━━━━━┳━━━━━━━━━━━━━━━━━━━━━━━━┳━━━━━━━━━━━━━━━┓\n",
       "┃\u001b[1m \u001b[0m\u001b[1mLayer (type)                   \u001b[0m\u001b[1m \u001b[0m┃\u001b[1m \u001b[0m\u001b[1mOutput Shape          \u001b[0m\u001b[1m \u001b[0m┃\u001b[1m \u001b[0m\u001b[1m      Param #\u001b[0m\u001b[1m \u001b[0m┃\n",
       "┡━━━━━━━━━━━━━━━━━━━━━━━━━━━━━━━━━╇━━━━━━━━━━━━━━━━━━━━━━━━╇━━━━━━━━━━━━━━━┩\n",
       "│ lstm (\u001b[38;5;33mLSTM\u001b[0m)                     │ (\u001b[38;5;45mNone\u001b[0m, \u001b[38;5;34m60\u001b[0m, \u001b[38;5;34m25\u001b[0m)         │         \u001b[38;5;34m3,100\u001b[0m │\n",
       "├─────────────────────────────────┼────────────────────────┼───────────────┤\n",
       "│ dropout (\u001b[38;5;33mDropout\u001b[0m)               │ (\u001b[38;5;45mNone\u001b[0m, \u001b[38;5;34m60\u001b[0m, \u001b[38;5;34m25\u001b[0m)         │             \u001b[38;5;34m0\u001b[0m │\n",
       "├─────────────────────────────────┼────────────────────────┼───────────────┤\n",
       "│ lstm_1 (\u001b[38;5;33mLSTM\u001b[0m)                   │ (\u001b[38;5;45mNone\u001b[0m, \u001b[38;5;34m25\u001b[0m)             │         \u001b[38;5;34m5,100\u001b[0m │\n",
       "├─────────────────────────────────┼────────────────────────┼───────────────┤\n",
       "│ dropout_1 (\u001b[38;5;33mDropout\u001b[0m)             │ (\u001b[38;5;45mNone\u001b[0m, \u001b[38;5;34m25\u001b[0m)             │             \u001b[38;5;34m0\u001b[0m │\n",
       "├─────────────────────────────────┼────────────────────────┼───────────────┤\n",
       "│ dense (\u001b[38;5;33mDense\u001b[0m)                   │ (\u001b[38;5;45mNone\u001b[0m, \u001b[38;5;34m5\u001b[0m)              │           \u001b[38;5;34m130\u001b[0m │\n",
       "└─────────────────────────────────┴────────────────────────┴───────────────┘\n"
      ]
     },
     "metadata": {},
     "output_type": "display_data"
    },
    {
     "data": {
      "text/html": [
       "<pre style=\"white-space:pre;overflow-x:auto;line-height:normal;font-family:Menlo,'DejaVu Sans Mono',consolas,'Courier New',monospace\"><span style=\"font-weight: bold\"> Total params: </span><span style=\"color: #00af00; text-decoration-color: #00af00\">24,992</span> (97.63 KB)\n",
       "</pre>\n"
      ],
      "text/plain": [
       "\u001b[1m Total params: \u001b[0m\u001b[38;5;34m24,992\u001b[0m (97.63 KB)\n"
      ]
     },
     "metadata": {},
     "output_type": "display_data"
    },
    {
     "data": {
      "text/html": [
       "<pre style=\"white-space:pre;overflow-x:auto;line-height:normal;font-family:Menlo,'DejaVu Sans Mono',consolas,'Courier New',monospace\"><span style=\"font-weight: bold\"> Trainable params: </span><span style=\"color: #00af00; text-decoration-color: #00af00\">8,330</span> (32.54 KB)\n",
       "</pre>\n"
      ],
      "text/plain": [
       "\u001b[1m Trainable params: \u001b[0m\u001b[38;5;34m8,330\u001b[0m (32.54 KB)\n"
      ]
     },
     "metadata": {},
     "output_type": "display_data"
    },
    {
     "data": {
      "text/html": [
       "<pre style=\"white-space:pre;overflow-x:auto;line-height:normal;font-family:Menlo,'DejaVu Sans Mono',consolas,'Courier New',monospace\"><span style=\"font-weight: bold\"> Non-trainable params: </span><span style=\"color: #00af00; text-decoration-color: #00af00\">0</span> (0.00 B)\n",
       "</pre>\n"
      ],
      "text/plain": [
       "\u001b[1m Non-trainable params: \u001b[0m\u001b[38;5;34m0\u001b[0m (0.00 B)\n"
      ]
     },
     "metadata": {},
     "output_type": "display_data"
    },
    {
     "data": {
      "text/html": [
       "<pre style=\"white-space:pre;overflow-x:auto;line-height:normal;font-family:Menlo,'DejaVu Sans Mono',consolas,'Courier New',monospace\"><span style=\"font-weight: bold\"> Optimizer params: </span><span style=\"color: #00af00; text-decoration-color: #00af00\">16,662</span> (65.09 KB)\n",
       "</pre>\n"
      ],
      "text/plain": [
       "\u001b[1m Optimizer params: \u001b[0m\u001b[38;5;34m16,662\u001b[0m (65.09 KB)\n"
      ]
     },
     "metadata": {},
     "output_type": "display_data"
    },
    {
     "name": "stdout",
     "output_type": "stream",
     "text": [
      "None\n"
     ]
    },
    {
     "data": {
      "image/png": "[encoded data removed]",
      "text/plain": [
       "<Figure size 640x480 with 1 Axes>"
      ]
     },
     "metadata": {},
     "output_type": "display_data"
    }
   ],
   "source": [
    "# Retrieve the history object\n",
    "history = model.fit(X_train, y_train, epochs=epochs, batch_size=batch_size, validation_data=(X_val, y_val))\n",
    "\n",
    "# Show the model summary\n",
    "print(model.summary())\n",
    "\n",
    "# Plot the loss function during the training\n",
    "plt.plot(history.history['loss'], label='Training Loss')\n",
    "plt.plot(history.history['val_loss'], label='Validation Loss')\n",
    "plt.xlabel('Epoch')\n",
    "plt.ylabel('Loss')\n",
    "plt.legend()\n",
    "plt.show()"
   ]
  },
  {
   "cell_type": "markdown",
   "id": "1cf0705d",
   "metadata": {},
   "source": [
    "# Modell speichern"
   ]
  },
  {
   "cell_type": "code",
   "execution_count": 21,
   "id": "2152e6e9",
   "metadata": {},
   "outputs": [],
   "source": [
    "for symbol in stock_symbols:\n",
    "    model.save(f'Predict1Year_{symbol}.h5.keras')"
   ]
  },
  {
   "cell_type": "markdown",
   "id": "d1df86dc",
   "metadata": {},
   "source": [
    "# Predictions X-test"
   ]
  },
  {
   "cell_type": "code",
   "execution_count": 22,
   "id": "1aba1965",
   "metadata": {},
   "outputs": [
    {
     "name": "stdout",
     "output_type": "stream",
     "text": [
      "\u001b[1m21/21\u001b[0m \u001b[32m━━━━━━━━━━━━━━━━━━━━\u001b[0m\u001b[37m\u001b[0m \u001b[1m1s\u001b[0m 15ms/step\n",
      "Prediction: [[0.19244462 0.20682749 0.19528179 0.1929348  0.06724662]\n",
      " [0.1916725  0.20604938 0.19434132 0.19223282 0.06731759]\n",
      " [0.1906757  0.20522137 0.19352326 0.19134645 0.06717893]\n",
      " ...\n",
      " [0.15097028 0.17097427 0.16068509 0.1522576  0.05574185]\n",
      " [0.15094754 0.17094569 0.1600123  0.15253234 0.0561629 ]\n",
      " [0.15058187 0.17065251 0.15914793 0.15245353 0.05636139]]\n",
      "661\n",
      "661\n"
     ]
    }
   ],
   "source": [
    "predictions = model.predict(X_test)\n",
    "print(f'Prediction: {predictions}')\n",
    "print(len(predictions))\n",
    "print(len(X_test))"
   ]
  },
  {
   "cell_type": "code",
   "execution_count": 23,
   "id": "cc3ea732",
   "metadata": {},
   "outputs": [
    {
     "data": {
      "image/png": "[encoded data removed]",
      "text/plain": [
       "<Figure size 1600x800 with 1 Axes>"
      ]
     },
     "metadata": {},
     "output_type": "display_data"
    }
   ],
   "source": [
    "plt.figure(figsize=(16, 8))\n",
    "plt.plot(predictions[:,-2], color=\"green\", label=\"Prediction\")\n",
    "plt.plot(y_test[:,-2], color=\"black\", label=\"Test\")\n",
    "plt.legend()\n",
    "plt.show()"
   ]
  },
  {
   "cell_type": "markdown",
   "id": "eecb2a5e",
   "metadata": {},
   "source": [
    "# Compare test dataset"
   ]
  },
  {
   "cell_type": "markdown",
   "id": "90458c92",
   "metadata": {},
   "source": [
    "# Prediction for the unkonown sequence"
   ]
  },
  {
   "cell_type": "code",
   "execution_count": 24,
   "id": "09634d97",
   "metadata": {},
   "outputs": [
    {
     "name": "stdout",
     "output_type": "stream",
     "text": [
      "\u001b[1m1/1\u001b[0m \u001b[32m━━━━━━━━━━━━━━━━━━━━\u001b[0m\u001b[37m\u001b[0m \u001b[1m0s\u001b[0m 18ms/step\n",
      "Prediction: [[1.0304682 1.0202007 1.0131614 1.0636513 0.0897987]]\n",
      "1\n",
      "1\n",
      "1.0636513\n"
     ]
    }
   ],
   "source": [
    "predictions = model.predict(X_pre)\n",
    "prediction_20_days_ahead = predictions[0][-2]\n",
    "print(f'Prediction: {predictions}')\n",
    "print(len(predictions))\n",
    "print(len(X_pre))\n",
    "print(prediction_20_days_ahead)"
   ]
  },
  {
   "cell_type": "markdown",
   "id": "b5392bcc",
   "metadata": {},
   "source": [
    "# Transform back into monetary values"
   ]
  },
  {
   "cell_type": "code",
   "execution_count": 25,
   "id": "e74a644f",
   "metadata": {},
   "outputs": [
    {
     "name": "stdout",
     "output_type": "stream",
     "text": [
      "[[9.3155050e+00 9.3288279e+00 9.2045298e+00 9.2908316e+00 7.1294545e+06]]\n",
      "Zurücktransformierte Vorhersagen:\n",
      "[[9.3155050e+00 9.3288279e+00 9.2045298e+00 9.2908316e+00 7.1294545e+06]]\n",
      "9.290832\n"
     ]
    }
   ],
   "source": [
    "# Inverse transformation of the predictions\n",
    "predictions_original_scale = scaler.inverse_transform(predictions)\n",
    "print(predictions_original_scale)\n",
    "prediction_20_days_ahead = predictions_original_scale[0][-2]\n",
    "\n",
    "# shape a 1-Dimensional array\n",
    "predictions_close = predictions_original_scale[:, -1]  # Extract only the close values\n",
    "\n",
    "# Show values of inverse transformation\n",
    "print(\"Zurücktransformierte Vorhersagen:\")\n",
    "print(predictions_original_scale)\n",
    "print(prediction_20_days_ahead)"
   ]
  },
  {
   "cell_type": "markdown",
   "id": "788a4f65",
   "metadata": {},
   "source": [
    "# read test CSV from 2019"
   ]
  },
  {
   "cell_type": "code",
   "execution_count": 26,
   "id": "8fed4224",
   "metadata": {},
   "outputs": [
    {
     "name": "stderr",
     "output_type": "stream",
     "text": [
      "[*********************100%%**********************]  1 of 1 completed\n"
     ]
    }
   ],
   "source": [
    "# Define time period and output file\n",
    "start_date = '2019-01-01'\n",
    "end_date = '2019-12-31'\n",
    "output_file = 'stock_data_2019.csv'\n",
    "\n",
    "# Load and store the share data\n",
    "download_stock_data(stock_symbols, start_date, end_date, output_file)\n",
    "\n",
    "# Search and delete empty rows in the CSV file\n",
    "with open(output_file, 'r') as file:\n",
    "    lines = file.readlines()\n",
    "\n",
    "# Filter empty rows\n",
    "lines = [line.strip() for line in lines if line.strip()]\n",
    "\n",
    "# Overwrite the file with the cleaned data\n",
    "with open(output_file, 'w') as file:\n",
    "    file.write('\\n'.join(lines))"
   ]
  },
  {
   "cell_type": "code",
   "execution_count": 27,
   "id": "398e1a4b",
   "metadata": {},
   "outputs": [
    {
     "name": "stdout",
     "output_type": "stream",
     "text": [
      "             Open   High    Low  Close    Volume\n",
      "Date                                            \n",
      "2019-01-02  8.561  8.935  8.542  8.900  11480802\n",
      "2019-01-03  8.846  9.057  8.839  8.998  10113886\n",
      "2019-01-04  9.050  9.132  9.002  9.083   8616427\n",
      "2019-01-07  9.104  9.107  8.941  8.981   8046282\n",
      "2019-01-08  9.009  9.106  8.979  9.027   8197152\n",
      "             Open   High    Low  Close    Volume\n",
      "Date                                            \n",
      "2019-01-02  8.561  8.935  8.542  8.900  11480802\n",
      "2019-01-03  8.846  9.057  8.839  8.998  10113886\n",
      "2019-01-04  9.050  9.132  9.002  9.083   8616427\n",
      "2019-01-07  9.104  9.107  8.941  8.981   8046282\n",
      "2019-01-08  9.009  9.106  8.979  9.027   8197152\n",
      "...           ...    ...    ...    ...       ...\n",
      "2019-12-19  9.601  9.610  9.529  9.571   8864201\n",
      "2019-12-20  9.559  9.603  9.470  9.549  16920221\n",
      "2019-12-23  9.547  9.563  9.458  9.514   6773974\n",
      "2019-12-27  9.562  9.636  9.522  9.556   5283175\n",
      "2019-12-30  9.556  9.566  9.504  9.524   3674747\n",
      "\n",
      "[251 rows x 5 columns]\n"
     ]
    }
   ],
   "source": [
    "# no normalization. The data will be compared to the prediction data from the LSTM\n",
    "# load CSV\n",
    "df2019 = pd.read_csv('stock_data_2019.csv')\n",
    "\n",
    "# transform date to index\n",
    "df2019.set_index('Date', inplace=True)\n",
    "\n",
    "print(df2019.head())\n",
    "\n",
    "# Select columns \"Date\" and \"Close\"\n",
    "selected_columns = ['Open', 'High', 'Low', 'Close', 'Volume']\n",
    "df2019 = df2019[selected_columns]\n",
    "\n",
    "# Show first rows\n",
    "print(df2019)"
   ]
  },
  {
   "cell_type": "markdown",
   "id": "08973d9b",
   "metadata": {},
   "source": [
    "# Compare predictions to actual share values"
   ]
  },
  {
   "cell_type": "code",
   "execution_count": 28,
   "id": "bbe67132",
   "metadata": {},
   "outputs": [
    {
     "name": "stdout",
     "output_type": "stream",
     "text": [
      "            Actual  Predicted\n",
      "2019-12-30   9.524   9.290832\n"
     ]
    }
   ],
   "source": [
    "# Extract the last row\n",
    "last_row = df2019.iloc[-1]\n",
    "# extract the \"Close\" value of the last row\n",
    "actual_close = last_row['Close']\n",
    "# Create a DataFrame with only one entry for the actual closing price and on entry for the predicted closing price\n",
    "comparison_df = pd.DataFrame({'Actual': [actual_close], 'Predicted': prediction_20_days_ahead}, index=[last_row.name])\n",
    "# Show comparison\n",
    "print(comparison_df)\n"
   ]
  },
  {
   "cell_type": "code",
   "execution_count": null,
   "id": "9c3b246b",
   "metadata": {},
   "outputs": [],
   "source": []
  }
 ],
 "metadata": {
  "kernelspec": {
   "display_name": "Python 3 (ipykernel)",
   "language": "python",
   "name": "python3"
  },
  "language_info": {
   "codemirror_mode": {
    "name": "ipython",
    "version": 3
   },
   "file_extension": ".py",
   "mimetype": "text/x-python",
   "name": "python",
   "nbconvert_exporter": "python",
   "pygments_lexer": "ipython3",
   "version": "3.10.9"
  }
 },
 "nbformat": 4,
 "nbformat_minor": 5
}
