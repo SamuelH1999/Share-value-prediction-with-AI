{
 "cells": [
  {
   "cell_type": "markdown",
   "id": "19628bf5",
   "metadata": {},
   "source": [
    "# Import"
   ]
  },
  {
   "cell_type": "code",
   "execution_count": 1,
   "id": "5c450942",
   "metadata": {},
   "outputs": [],
   "source": [
    "import json\n",
    "import pandas as pd\n",
    "import numpy as np\n",
    "from scipy.optimize import minimize\n",
    "import yfinance as yf\n",
    "from datetime import datetime, timedelta"
   ]
  },
  {
   "cell_type": "markdown",
   "id": "e5e4b287",
   "metadata": {},
   "source": [
    "# function to download stock data"
   ]
  },
  {
   "cell_type": "code",
   "execution_count": 2,
   "id": "6782e5cc",
   "metadata": {},
   "outputs": [],
   "source": [
    "def download_stock_data(stock_symbols, start_date, end_date, output_file):\n",
    "    with open(output_file, 'w') as f:\n",
    "        # Write heading of the columns\n",
    "        f.write('Date,Open,High,Low,Close,Volume\\n')\n",
    "        # load share data for the time period needed\n",
    "        stock_data = yf.download(symbol, start=start_date, end=end_date)\n",
    "        stock_data = stock_data[['Open', 'High', 'Low', 'Close', 'Volume']]  # Choose the right columns\n",
    "        stock_data.to_csv(f, header=False)  # Write the data to the file"
   ]
  },
  {
   "cell_type": "markdown",
   "id": "7a982667",
   "metadata": {},
   "source": [
    "# Define the shares"
   ]
  },
  {
   "cell_type": "code",
   "execution_count": 3,
   "id": "88b93e16",
   "metadata": {},
   "outputs": [],
   "source": [
    "stock_symbols = ['ALV.DE', 'DBK.DE', 'VOW3.DE', 'BMW.DE', 'ADS.DE', 'BEI.DE', 'DTE.SG', 'SAP.DE', '1COV.DE', 'BAS.DE', 'EOAN.DE', 'RWE.DE']"
   ]
  },
  {
   "cell_type": "markdown",
   "id": "04709944",
   "metadata": {},
   "source": [
    "# Read start and end for the sequence, which will be predicted from Excel"
   ]
  },
  {
   "cell_type": "code",
   "execution_count": 4,
   "id": "86e21e3e",
   "metadata": {},
   "outputs": [],
   "source": [
    "start_date = '2019-01-01'\n",
    "end_date = '2019-12-31'"
   ]
  },
  {
   "cell_type": "markdown",
   "id": "c7a78c31",
   "metadata": {},
   "source": [
    "# Read close values at the begin of the time period"
   ]
  },
  {
   "cell_type": "code",
   "execution_count": 5,
   "id": "da22874a",
   "metadata": {},
   "outputs": [
    {
     "name": "stdout",
     "output_type": "stream",
     "text": [
      "2018-12-27 00:00:00\n",
      "2018-12-31 00:00:00\n"
     ]
    },
    {
     "name": "stderr",
     "output_type": "stream",
     "text": [
      "[*********************100%%**********************]  1 of 1 completed\n",
      "[*********************100%%**********************]  1 of 1 completed\n",
      "[*********************100%%**********************]  1 of 1 completed\n",
      "[*********************100%%**********************]  1 of 1 completed\n",
      "[*********************100%%**********************]  1 of 1 completed\n",
      "[*********************100%%**********************]  1 of 1 completed\n",
      "[*********************100%%**********************]  1 of 1 completed\n",
      "[*********************100%%**********************]  1 of 1 completed\n",
      "[*********************100%%**********************]  1 of 1 completed\n",
      "[*********************100%%**********************]  1 of 1 completed\n",
      "[*********************100%%**********************]  1 of 1 completed\n",
      "[*********************100%%**********************]  1 of 1 completed\n"
     ]
    }
   ],
   "source": [
    "# Definition of the time period\n",
    "# convert in to datetime objekt to substract days for the last day before this period\n",
    "start_date_obj = datetime.strptime(start_date, '%Y-%m-%d')\n",
    "end_date_obj = datetime.strptime(end_date, '%Y-%m-%d')\n",
    "# Substract 5 days for the new start_date and 1 day for the new end_date\n",
    "# In the next block the last date will be extracted \n",
    "new_start_date = start_date_obj - timedelta(days=5)\n",
    "new_end_date = start_date_obj - timedelta(days=1)\n",
    "\n",
    "print(new_start_date)\n",
    "print(new_end_date)\n",
    "\n",
    "# Load and store the data for every symbol (share)\n",
    "for symbol in stock_symbols:\n",
    "    output_file = f'stock_data_begin{symbol}.csv'\n",
    "    download_stock_data(symbol, new_start_date, new_end_date, output_file)\n",
    "\n",
    "    # Search and delete empty rows in the CSV file\n",
    "    with open(output_file, 'r') as file:\n",
    "        lines = file.readlines()\n",
    "\n",
    "    # Filter the empty rows\n",
    "    lines = [line.strip() for line in lines if line.strip()]\n",
    "\n",
    "    # Overwrite the file with the cleaned data\n",
    "    with open(output_file, 'w') as file:\n",
    "        file.write('\\n'.join(lines))\n"
   ]
  },
  {
   "cell_type": "code",
   "execution_count": 6,
   "id": "ea464ddb",
   "metadata": {},
   "outputs": [
    {
     "name": "stdout",
     "output_type": "stream",
     "text": [
      "       Symbol  Close_Value\n",
      "0      ALV.DE   175.139999\n",
      "1      DBK.DE     6.967000\n",
      "2     VOW3.DE   138.919998\n",
      "3      BMW.DE    70.699997\n",
      "4      ADS.DE   182.399994\n",
      "5      BEI.DE    91.160004\n",
      "6      DTE.SG    13.690000\n",
      "7      SAP.DE    86.930000\n",
      "8     1COV.DE    43.180000\n",
      "9      BAS.DE    60.400002\n",
      "10    EOAN.DE     8.627000\n",
      "11     RWE.DE    18.965000\n",
      "12  Risk_Free   100.000000\n"
     ]
    },
    {
     "name": "stderr",
     "output_type": "stream",
     "text": [
      "C:\\Users\\Samuel\\AppData\\Local\\Temp\\ipykernel_19796\\249353213.py:20: FutureWarning: The frame.append method is deprecated and will be removed from pandas in a future version. Use pandas.concat instead.\n",
      "  combined_data_begin = combined_data_begin.append(risk_free_data, ignore_index=True)\n"
     ]
    }
   ],
   "source": [
    "# create data frame for the collected data \n",
    "combined_data_begin = pd.DataFrame(columns=['Symbol', 'Close_Value'])\n",
    "\n",
    "# load and store the data for every symbol (share)\n",
    "for symbol in stock_symbols:\n",
    "    output_file = f'stock_data_begin{symbol}.csv'\n",
    "    # read CSV file \n",
    "    df = pd.read_csv(output_file)\n",
    "\n",
    "    # Select the last row only\n",
    "    last_row = df.tail(1)\n",
    "\n",
    "     # Write symbol and close value to the data frame\n",
    "    data = {'Symbol': symbol, 'Close_Value': last_row['Close'].iloc[0]}\n",
    "    combined_data_begin = pd.concat([combined_data_begin, pd.DataFrame(data, index=[0])], ignore_index=True)\n",
    "    \n",
    "# Add a row for the risk-free interest rate with the specified value\n",
    "risk_free_rate = 0.3 # Input in percentage \n",
    "risk_free_data = {'Symbol': 'Risk_Free', 'Close_Value': 100}\n",
    "combined_data_begin = combined_data_begin.append(risk_free_data, ignore_index=True)\n",
    "\n",
    "print(combined_data_begin)"
   ]
  },
  {
   "cell_type": "markdown",
   "id": "69294cef",
   "metadata": {},
   "source": [
    "# read predictions"
   ]
  },
  {
   "cell_type": "code",
   "execution_count": 7,
   "id": "dfc05f95",
   "metadata": {},
   "outputs": [
    {
     "name": "stdout",
     "output_type": "stream",
     "text": [
      "                             ALV.DE     DBK.DE    VOW3.DE     BMW.DE  \\\n",
      "prediction_20_days_ahead  50.421959  14.869346  29.790468  39.409405   \n",
      "\n",
      "                             ADS.DE   BEI.DE     DTE.SG     SAP.DE    1COV.DE  \\\n",
      "prediction_20_days_ahead  71.390404  23.6108  15.274905  31.452709  12.450314   \n",
      "\n",
      "                             BAS.DE    EOAN.DE     RWE.DE  \n",
      "prediction_20_days_ahead  41.113701  11.716145  18.942484  \n"
     ]
    }
   ],
   "source": [
    "# Define the name of the file\n",
    "json_file = 'settings/predictions1Year_dict.json'\n",
    "\n",
    "# read array from the json file\n",
    "with open(json_file, 'r') as f:\n",
    "    predictions_dict = json.load(f)\n",
    "    \n",
    "# Convert predictions_dict to DataFrame\n",
    "predictions_df = pd.DataFrame(predictions_dict)\n",
    "print(predictions_df)"
   ]
  },
  {
   "cell_type": "markdown",
   "id": "1a5c4e0b",
   "metadata": {},
   "source": [
    "# add dividend"
   ]
  },
  {
   "cell_type": "code",
   "execution_count": 8,
   "id": "1372ffb4",
   "metadata": {},
   "outputs": [
    {
     "name": "stdout",
     "output_type": "stream",
     "text": [
      "      Share  Dividend\n",
      "0    ALV.DE      9.00\n",
      "1    DBK.DE      0.11\n",
      "2   VOW3.DE      4.86\n",
      "3    BMW.DE      3.50\n",
      "4    ADS.DE      3.35\n",
      "5    BEI.DE      0.70\n",
      "6    DTE.SG      0.70\n",
      "7    SAP.DE      1.50\n",
      "8   1COV.DE      2.40\n",
      "9    BAS.DE      3.20\n",
      "10  EOAN.DE      0.43\n",
      "11   RWE.DE      0.70\n",
      "                             ALV.DE     DBK.DE    VOW3.DE     BMW.DE  \\\n",
      "prediction_20_days_ahead  59.421959  14.979346  34.650468  42.909405   \n",
      "\n",
      "                             ADS.DE   BEI.DE     DTE.SG     SAP.DE    1COV.DE  \\\n",
      "prediction_20_days_ahead  74.740404  24.3108  15.974905  32.952709  14.850314   \n",
      "\n",
      "                             BAS.DE    EOAN.DE     RWE.DE  \n",
      "prediction_20_days_ahead  44.313701  12.146145  19.642484  \n"
     ]
    }
   ],
   "source": [
    "excel_file_path_div = 'settings/Dividend2018.xlsx'\n",
    "div = pd.read_excel(excel_file_path_div)\n",
    "\n",
    "print(div)\n",
    "\n",
    "# Symbolspalte als Index setzen\n",
    "div.set_index('Share', inplace=True)\n",
    "\n",
    "# Für jedes Symbol in predictions_df die entsprechende Dividende addieren\n",
    "for symbol in predictions_df.columns:\n",
    "    if symbol in div.index:\n",
    "        predictions_df[symbol] += div.loc[symbol, 'Dividend']\n",
    "\n",
    "print(predictions_df)"
   ]
  },
  {
   "cell_type": "markdown",
   "id": "b70120db",
   "metadata": {},
   "source": [
    "# calculate return in %"
   ]
  },
  {
   "cell_type": "code",
   "execution_count": 9,
   "id": "ef8900ed",
   "metadata": {},
   "outputs": [
    {
     "name": "stdout",
     "output_type": "stream",
     "text": [
      "                             ALV.DE      DBK.DE   VOW3.DE    BMW.DE   ADS.DE  \\\n",
      "prediction_20_days_ahead -66.071737  115.004244 -75.05725 -39.30777 -59.0239   \n",
      "\n",
      "                             BEI.DE     DTE.SG     SAP.DE    1COV.DE  \\\n",
      "prediction_20_days_ahead -73.331726  16.690326 -62.092823 -65.608352   \n",
      "\n",
      "                             BAS.DE    EOAN.DE    RWE.DE  \n",
      "prediction_20_days_ahead -26.632947  40.792219  3.572284  \n"
     ]
    }
   ],
   "source": [
    "# Für jedes Symbol in predictions_df den entsprechenden Close_Value aus combined_data_begin abziehen\n",
    "for symbol in predictions_df.columns:\n",
    "    if symbol in combined_data_begin['Symbol'].values:\n",
    "        close_value = combined_data_begin.loc[combined_data_begin['Symbol'] == symbol, 'Close_Value'].values[0]\n",
    "        predictions_df[symbol] = ((predictions_df[symbol] - close_value) / close_value) * 100\n",
    "\n",
    "print(predictions_df)   "
   ]
  },
  {
   "cell_type": "markdown",
   "id": "ac4fd6c6",
   "metadata": {},
   "source": [
    "# add risk free rate"
   ]
  },
  {
   "cell_type": "code",
   "execution_count": 10,
   "id": "e64cc122",
   "metadata": {},
   "outputs": [
    {
     "name": "stdout",
     "output_type": "stream",
     "text": [
      "                             ALV.DE      DBK.DE   VOW3.DE    BMW.DE   ADS.DE  \\\n",
      "prediction_20_days_ahead -66.071737  115.004244 -75.05725 -39.30777 -59.0239   \n",
      "\n",
      "                             BEI.DE     DTE.SG     SAP.DE    1COV.DE  \\\n",
      "prediction_20_days_ahead -73.331726  16.690326 -62.092823 -65.608352   \n",
      "\n",
      "                             BAS.DE    EOAN.DE    RWE.DE  Risk Free  \n",
      "prediction_20_days_ahead -26.632947  40.792219  3.572284          1  \n"
     ]
    }
   ],
   "source": [
    "# Symbol für den risikofreien Zinssatz\n",
    "risk_free_symbol = 'Risk Free'\n",
    "\n",
    "# Erstellen einer neuen Zeile für den risikofreien Zinssatz\n",
    "risk_free_row = pd.DataFrame({risk_free_symbol: [risk_free_rate]}, index=['prediction_20_days_ahead'])\n",
    "\n",
    "# Anhängen der neuen Zeile an predictions_df\n",
    "predictions_df = predictions_df.join(risk_free_row)\n",
    "\n",
    "print(predictions_df)\n"
   ]
  },
  {
   "cell_type": "markdown",
   "id": "2c38ceb3",
   "metadata": {},
   "source": [
    "# load share value from 2019"
   ]
  },
  {
   "cell_type": "code",
   "execution_count": 11,
   "id": "f606101a",
   "metadata": {},
   "outputs": [
    {
     "name": "stderr",
     "output_type": "stream",
     "text": [
      "\r",
      "[*********************100%%**********************]  1 of 1 completed"
     ]
    },
    {
     "name": "stdout",
     "output_type": "stream",
     "text": [
      "Startdatum: 2019-01-01, Enddatum: 2019-12-31\n"
     ]
    },
    {
     "name": "stderr",
     "output_type": "stream",
     "text": [
      "\n",
      "[*********************100%%**********************]  1 of 1 completed\n",
      "[*********************100%%**********************]  1 of 1 completed\n",
      "[*********************100%%**********************]  1 of 1 completed\n",
      "[*********************100%%**********************]  1 of 1 completed\n",
      "[*********************100%%**********************]  1 of 1 completed\n",
      "[*********************100%%**********************]  1 of 1 completed\n",
      "[*********************100%%**********************]  1 of 1 completed\n",
      "[*********************100%%**********************]  1 of 1 completed\n",
      "[*********************100%%**********************]  1 of 1 completed\n",
      "[*********************100%%**********************]  1 of 1 completed\n",
      "[*********************100%%**********************]  1 of 1 completed\n"
     ]
    }
   ],
   "source": [
    "start_date = start_date\n",
    "end_date = end_date\n",
    "print(f'Startdatum: {start_date}, Enddatum: {end_date}')\n",
    "# Load and store the symbols for every symbol (share)\n",
    "for symbol in stock_symbols:\n",
    "    output_file = f'stock_data_{symbol}_2019.csv'\n",
    "    download_stock_data(symbol, start_date, end_date, output_file)\n",
    "\n",
    "    # search and delete for empty rows in the CSV \n",
    "    with open(output_file, 'r') as file:\n",
    "        lines = file.readlines()\n",
    "\n",
    "    # Filter the empty rows\n",
    "    lines = [line.strip() for line in lines if line.strip()]\n",
    "\n",
    "    # Overwrite the file with the cleaned rows\n",
    "    with open(output_file, 'w') as file:\n",
    "        file.write('\\n'.join(lines))\n"
   ]
  },
  {
   "cell_type": "code",
   "execution_count": 12,
   "id": "ee54ec1c",
   "metadata": {},
   "outputs": [
    {
     "name": "stdout",
     "output_type": "stream",
     "text": [
      "Liste der letzten Close-Werte:\n",
      "ALV.DE: 218.3999938964844\n",
      "DBK.DE: 6.916999816894531\n",
      "VOW3.DE: 176.24000549316406\n",
      "BMW.DE: 73.13999938964844\n",
      "ADS.DE: 289.79998779296875\n",
      "BEI.DE: 106.6500015258789\n",
      "DTE.SG: 13.6899995803833\n",
      "SAP.DE: 120.31999969482422\n",
      "1COV.DE: 41.45000076293945\n",
      "BAS.DE: 67.3499984741211\n",
      "EOAN.DE: 9.52400016784668\n",
      "RWE.DE: 27.350000381469727\n",
      "Risk_Free: 101\n"
     ]
    }
   ],
   "source": [
    "# list for the last close value of the shares\n",
    "last_close_values = []\n",
    "\n",
    "# load for each symbol\n",
    "for symbol in stock_symbols:\n",
    "    # file name of the csv data\n",
    "    csv_file = f'stock_data_{symbol}_2019.csv'\n",
    "    \n",
    "    # load CSV data\n",
    "    df = pd.read_csv(csv_file)\n",
    "    \n",
    "    # set date as index\n",
    "    df.set_index('Date', inplace=True)\n",
    "    \n",
    "    # collect just the last close value and write it to the list\n",
    "    last_close_value = df['Close'].iloc[-1]\n",
    "    last_close_values.append((symbol, last_close_value))\n",
    "    \n",
    "# Add a row for the risk-free interest rate with a value of 1\n",
    "last_close_values.append(('Risk_Free', 100 + risk_free_rate))\n",
    "    \n",
    "# print the list\n",
    "print(\"Liste der letzten Close-Werte:\")\n",
    "for symbol, last_close_value in last_close_values:\n",
    "    print(f\"{symbol}: {last_close_value}\")"
   ]
  },
  {
   "cell_type": "markdown",
   "id": "41f6215f",
   "metadata": {},
   "source": [
    "# Historic data from 2018 for the covarianz matrix"
   ]
  },
  {
   "cell_type": "code",
   "execution_count": 13,
   "id": "5b06561b",
   "metadata": {},
   "outputs": [
    {
     "name": "stderr",
     "output_type": "stream",
     "text": [
      "\r",
      "[*********************100%%**********************]  1 of 1 completed"
     ]
    },
    {
     "name": "stdout",
     "output_type": "stream",
     "text": [
      "2018-12-31\n"
     ]
    },
    {
     "name": "stderr",
     "output_type": "stream",
     "text": [
      "\n",
      "[*********************100%%**********************]  1 of 1 completed\n",
      "[*********************100%%**********************]  1 of 1 completed\n",
      "[*********************100%%**********************]  1 of 1 completed\n",
      "[*********************100%%**********************]  1 of 1 completed\n",
      "[*********************100%%**********************]  1 of 1 completed\n",
      "[*********************100%%**********************]  1 of 1 completed\n",
      "[*********************100%%**********************]  1 of 1 completed\n",
      "[*********************100%%**********************]  1 of 1 completed\n",
      "[*********************100%%**********************]  1 of 1 completed\n",
      "[*********************100%%**********************]  1 of 1 completed\n",
      "[*********************100%%**********************]  1 of 1 completed\n"
     ]
    }
   ],
   "source": [
    "# Definition of the time period\n",
    "start_date2018 = '2018-01-01'\n",
    "end_date2018 = '2018-12-31'\n",
    "print(end_date2018)\n",
    "# Load and store the data for every symbol (share)\n",
    "for symbol in stock_symbols:\n",
    "    output_file = f'stock_data_{symbol}_2018.csv'\n",
    "    download_stock_data(symbol, start_date2018, end_date2018, output_file)\n",
    "\n",
    "    # Search and delete empty rows in the CSV file\n",
    "    with open(output_file, 'r') as file:\n",
    "        lines = file.readlines()\n",
    "\n",
    "    # Filter the empty rows\n",
    "    lines = [line.strip() for line in lines if line.strip()]\n",
    "\n",
    "    # Overwrite the file with the cleaned rows\n",
    "    with open(output_file, 'w') as file:\n",
    "        file.write('\\n'.join(lines))\n"
   ]
  },
  {
   "cell_type": "markdown",
   "id": "babf44c1",
   "metadata": {},
   "source": [
    "# Combine historical data to one file "
   ]
  },
  {
   "cell_type": "code",
   "execution_count": 14,
   "id": "effaa43f",
   "metadata": {},
   "outputs": [
    {
     "name": "stdout",
     "output_type": "stream",
     "text": [
      "                ALV.DE     DBK.DE     VOW3.DE     BMW.DE      ADS.DE  \\\n",
      "2018-01-02  192.699997  15.958000  165.699997  86.400002  167.149994   \n",
      "2018-01-03  193.000000  15.910000  171.440002  86.860001  168.050003   \n",
      "2018-01-04  195.500000  16.332001  174.440002  87.480003  170.250000   \n",
      "2018-01-05  198.559998  15.490000  179.199997  88.500000  172.050003   \n",
      "2018-01-08  198.860001  15.340000  179.839996  89.669998  172.750000   \n",
      "...                ...        ...         ...        ...         ...   \n",
      "2018-12-19  175.940002   7.530000  146.880005  73.449997  187.050003   \n",
      "2018-12-20  174.960007   7.000000  143.899994  71.839996  183.750000   \n",
      "2018-12-21  175.020004   7.042000  143.300003  71.930000  184.750000   \n",
      "2018-12-27  172.160004   6.750000  137.440002  69.860001  180.100006   \n",
      "2018-12-28  175.139999   6.967000  138.919998  70.699997  182.399994   \n",
      "\n",
      "                BEI.DE  DTE.SG     SAP.DE    1COV.DE     BAS.DE  EOAN.DE  \\\n",
      "2018-01-02   96.199997  14.872  92.800003  85.639999  91.309998    9.078   \n",
      "2018-01-03   96.680000  14.835  94.070000  86.760002  91.580002    9.086   \n",
      "2018-01-04   98.059998  14.890  95.089996  88.419998  93.550003    9.109   \n",
      "2018-01-05   99.279999  14.940  96.440002  88.300003  94.849998    9.237   \n",
      "2018-01-08  100.300003  15.040  96.269997  87.199997  95.010002    9.208   \n",
      "...                ...     ...        ...        ...        ...      ...   \n",
      "2018-12-19   93.059998  13.690  89.220001  43.150002  60.340000    8.965   \n",
      "2018-12-20   92.760002  13.690  87.769997  41.900002  59.750000    8.895   \n",
      "2018-12-21   92.739998  13.690  86.419998  43.279999  60.720001    8.864   \n",
      "2018-12-27   90.559998  13.690  85.790001  42.130001  59.669998    8.524   \n",
      "2018-12-28   91.160004  13.690  86.930000  43.180000  60.400002    8.627   \n",
      "\n",
      "               RWE.DE   Risk_Free  \n",
      "2018-01-02  17.299999  100.000000  \n",
      "2018-01-03  17.459999  100.003984  \n",
      "2018-01-04  17.465000  100.007968  \n",
      "2018-01-05  17.639999  100.011952  \n",
      "2018-01-08  17.780001  100.015936  \n",
      "...               ...         ...  \n",
      "2018-12-19  19.320000  100.984064  \n",
      "2018-12-20  19.155001  100.988048  \n",
      "2018-12-21  19.094999  100.992032  \n",
      "2018-12-27  18.490000  100.996016  \n",
      "2018-12-28  18.965000  101.000000  \n",
      "\n",
      "[252 rows x 13 columns]\n"
     ]
    }
   ],
   "source": [
    "# Data frame for the combined data\n",
    "combined_historical2018_data = pd.DataFrame()\n",
    "\n",
    "# load and combine the data for each share\n",
    "for symbol in stock_symbols:\n",
    "    # file name for the csv file\n",
    "    csv_file = f'stock_data_{symbol}_2018.csv'\n",
    "    \n",
    "    # read CSV file and set date to index\n",
    "    df = pd.read_csv(csv_file, index_col='Date', parse_dates=True)\n",
    "    \n",
    "    # change name of the close column\n",
    "    df.rename(columns={'Close': symbol}, inplace=True)\n",
    "    \n",
    "    # write data to the combined file\n",
    "    combined_historical2018_data = pd.concat([combined_historical2018_data, df[symbol]], axis=1)\n",
    "\n",
    "# drop rows with NaN values\n",
    "combined_historical2018_data.dropna(inplace=True)\n",
    "\n",
    "# Initialize the initial and final values for \"Risk_Free\"\n",
    "risk_free_initial = 100\n",
    "risk_free_final = 100 + risk_free_rate\n",
    "\n",
    "# Create a series for \"Risk_Free\" with increasing values\n",
    "risk_free_values = np.linspace(risk_free_initial, risk_free_final, len(combined_historical2018_data))\n",
    "\n",
    "# Add the \"Risk_Free\" series to the DataFrame\n",
    "combined_historical2018_data['Risk_Free'] = risk_free_values\n",
    "\n",
    "# create a CSV file for the data\n",
    "combined_historical2018_data.to_csv('combined_historical2018_stock_data.csv')\n",
    "\n",
    "print(combined_historical2018_data)"
   ]
  },
  {
   "cell_type": "markdown",
   "id": "1428f38c",
   "metadata": {},
   "source": [
    "# Mean variance optimization"
   ]
  },
  {
   "cell_type": "code",
   "execution_count": 15,
   "id": "3d4a0aef",
   "metadata": {},
   "outputs": [],
   "source": [
    "def mean_variance_optimization(expected_returns, covariance_matrix):\n",
    "    n = len(expected_returns)\n",
    "    initial_weights = np.array([1/n] * n)  # start weighs\n",
    "    bounds = [(0, 1)] * n  # weigh border (0-100% for each share)\n",
    "\n",
    "    # Minimize the negative sharpe ratio\n",
    "    def negative_sharpe(weights, expected_returns, covariance_matrix):\n",
    "        portfolio_return = np.dot(weights, expected_returns)\n",
    "        portfolio_volatility = np.sqrt(np.dot(weights.T, np.dot(covariance_matrix, weights)))\n",
    "        return -portfolio_return / portfolio_volatility\n",
    "\n",
    "    result = minimize(negative_sharpe, initial_weights, args=(expected_returns, covariance_matrix), bounds=bounds, constraints={'type': 'eq', 'fun': lambda x: np.sum(x) - 1})\n",
    "    return result.x\n"
   ]
  },
  {
   "cell_type": "markdown",
   "id": "c718e459",
   "metadata": {},
   "source": [
    "# Portfilio allocation"
   ]
  },
  {
   "cell_type": "code",
   "execution_count": 16,
   "id": "3fb99f92",
   "metadata": {},
   "outputs": [],
   "source": [
    "def allocate_portfolio(predictions, historical_data, initial_capital):\n",
    "    # Calculate expected returns based on the predictions\n",
    "    expected_returns = predictions.mean()\n",
    "    \n",
    "    # Calculate the covariance matrix of the returns\n",
    "    covariance_matrix = historical_data.cov()\n",
    "           \n",
    "    print (covariance_matrix)\n",
    "    \n",
    "    # Perform mean-variance optimization to obtain optimal weights\n",
    "    optimal_weights = mean_variance_optimization(expected_returns, covariance_matrix)\n",
    "\n",
    "    # Calculate the allocation of assets based on the optimal weights and the available capital\n",
    "    asset_allocation = initial_capital * optimal_weights\n",
    "\n",
    "    return asset_allocation\n"
   ]
  },
  {
   "cell_type": "markdown",
   "id": "4fea613d",
   "metadata": {},
   "source": [
    "# Calculate portfolio"
   ]
  },
  {
   "cell_type": "code",
   "execution_count": 17,
   "id": "b93ae54b",
   "metadata": {},
   "outputs": [
    {
     "name": "stdout",
     "output_type": "stream",
     "text": [
      "1000\n",
      "              ALV.DE     DBK.DE     VOW3.DE     BMW.DE      ADS.DE     BEI.DE  \\\n",
      "ALV.DE     55.719135  11.832723   69.633719  29.543884  -14.913587   0.700969   \n",
      "DBK.DE     11.832723   4.459489   21.177797  10.619505  -14.403096  -0.613004   \n",
      "VOW3.DE    69.633719  21.177797  173.761508  68.923353  -60.940672  -4.044547   \n",
      "BMW.DE     29.543884  10.619505   68.923353  39.954812  -18.970997   3.151594   \n",
      "ADS.DE    -14.913587 -14.403096  -60.940672 -18.970997  151.098444   7.531624   \n",
      "BEI.DE      0.700969  -0.613004   -4.044547   3.151594    7.531624  13.783059   \n",
      "DTE.SG      1.824277   0.309639    1.939910   0.824193   -0.172976   0.808876   \n",
      "SAP.DE     -7.402701  -4.671514  -35.207519  -7.149319   32.796906  19.146100   \n",
      "1COV.DE    52.288467  23.954566  105.094400  71.570572  -67.992106   6.309557   \n",
      "BAS.DE     38.744048  16.118842   87.074221  52.709029  -45.541645   8.408377   \n",
      "EOAN.DE    -0.464208  -0.189888   -0.824805   0.054390    0.739193   0.973982   \n",
      "RWE.DE     -3.476472  -1.526798   -8.780525  -0.837524   12.000983   3.544523   \n",
      "Risk_Free  -1.133737  -0.554058   -2.954373  -1.595710    2.035843   0.107439   \n",
      "\n",
      "             DTE.SG     SAP.DE     1COV.DE      BAS.DE   EOAN.DE     RWE.DE  \\\n",
      "ALV.DE     1.824277  -7.402701   52.288467   38.744048 -0.464208  -3.476472   \n",
      "DBK.DE     0.309639  -4.671514   23.954566   16.118842 -0.189888  -1.526798   \n",
      "VOW3.DE    1.939910 -35.207519  105.094400   87.074221 -0.824805  -8.780525   \n",
      "BMW.DE     0.824193  -7.149319   71.570572   52.709029  0.054390  -0.837524   \n",
      "ADS.DE    -0.172976  32.796906  -67.992106  -45.541645  0.739193  12.000983   \n",
      "BEI.DE     0.808876  19.146100    6.309557    8.408377  0.973982   3.544523   \n",
      "DTE.SG     0.198389   0.834733    0.693465    1.019659  0.067218   0.111936   \n",
      "SAP.DE     0.834733  44.670337   -6.385302   -0.211170  1.454609   7.296233   \n",
      "1COV.DE    0.693465  -6.385302  180.100895  116.884637  0.008611  -2.597430   \n",
      "BAS.DE     1.019659  -0.211170  116.884637   84.464655  0.339613  -1.286976   \n",
      "EOAN.DE    0.067218   1.454609    0.008611    0.339613  0.171556   0.591420   \n",
      "RWE.DE     0.111936   7.296233   -2.597430   -1.286976  0.591420   3.377908   \n",
      "Risk_Free -0.012866   0.733022   -3.527334   -2.422141  0.017584   0.174538   \n",
      "\n",
      "           Risk_Free  \n",
      "ALV.DE     -1.133737  \n",
      "DBK.DE     -0.554058  \n",
      "VOW3.DE    -2.954373  \n",
      "BMW.DE     -1.595710  \n",
      "ADS.DE      2.035843  \n",
      "BEI.DE      0.107439  \n",
      "DTE.SG     -0.012866  \n",
      "SAP.DE      0.733022  \n",
      "1COV.DE    -3.527334  \n",
      "BAS.DE     -2.422141  \n",
      "EOAN.DE     0.017584  \n",
      "RWE.DE      0.174538  \n",
      "Risk_Free   0.084332  \n",
      "[9.79738559e-04 1.10303929e+02 1.04340617e-04 0.00000000e+00\n",
      " 0.00000000e+00 3.02866532e-04 0.00000000e+00 5.24289700e-04\n",
      " 3.13404629e-04 1.35481853e-04 1.99097882e+02 0.00000000e+00\n",
      " 6.90596900e+02]\n"
     ]
    }
   ],
   "source": [
    "initial_capital = 1000 # 1000€ start capital\n",
    "print(initial_capital)\n",
    "# Calculate the portfolio allocation\n",
    "portfolio_allocation = allocate_portfolio(predictions_df, combined_historical2018_data, initial_capital)\n",
    "# print portfolio allocation\n",
    "print(portfolio_allocation)"
   ]
  },
  {
   "cell_type": "markdown",
   "id": "c8663a65",
   "metadata": {},
   "source": [
    "# Simulation for one year"
   ]
  },
  {
   "cell_type": "code",
   "execution_count": 18,
   "id": "d1703d1e",
   "metadata": {},
   "outputs": [
    {
     "name": "stdout",
     "output_type": "stream",
     "text": [
      "5.594030846996687e-06\n",
      "0.0009797385591286743\n",
      "0.0009797385591286743\n",
      "-----------------------------\n",
      "15.832342269131015\n",
      "110.30392870982696\n",
      "110.30490844838609\n",
      "-----------------------------\n",
      "7.51084210869896e-07\n",
      "0.00010434061719876968\n",
      "110.30501278900329\n",
      "-----------------------------\n",
      "0.0\n",
      "0.0\n",
      "110.30501278900329\n",
      "-----------------------------\n",
      "0.0\n",
      "0.0\n",
      "110.30501278900329\n",
      "-----------------------------\n",
      "3.322361998076513e-06\n",
      "0.00030286653191150795\n",
      "110.3053156555352\n",
      "-----------------------------\n",
      "0.0\n",
      "0.0\n",
      "110.3053156555352\n",
      "-----------------------------\n",
      "6.031171041021077e-06\n",
      "0.0005242897004365296\n",
      "110.30583994523563\n",
      "-----------------------------\n",
      "7.258096960920148e-06\n",
      "0.0003134046289875274\n",
      "110.30615334986462\n",
      "-----------------------------\n",
      "2.2430769862446404e-06\n",
      "0.00013548185339184014\n",
      "110.306288831718\n",
      "-----------------------------\n",
      "23.078461236072346\n",
      "199.0978817381771\n",
      "309.4041705698951\n",
      "-----------------------------\n",
      "0.0\n",
      "0.0\n",
      "309.4041705698951\n",
      "-----------------------------\n",
      "6.905968997756182\n",
      "690.5968997756182\n",
      "1000.0010703455133\n",
      "-----------------------------\n",
      "Gesamtwert des Portfolios am Ende des ersten Monats von 2019: 1000.0010703455133\n",
      "[5.594030846996687e-06, 15.832342269131015, 7.51084210869896e-07, 0.0, 0.0, 3.322361998076513e-06, 0.0, 6.031171041021077e-06, 7.258096960920148e-06, 2.2430769862446404e-06, 23.078461236072346, 0.0, 6.905968997756182]\n"
     ]
    }
   ],
   "source": [
    "# Initialisation of the portfolio\n",
    "portfolio_value = 0\n",
    "# initialize the list for the quantity of the shares, which have to be purchased\n",
    "shares_to_buy_list = []\n",
    "# Purchase the shares based on the allocations\n",
    "for i, allocation in enumerate(portfolio_allocation):\n",
    "    # Calculate the quantity of the shares, which should be purchased with this allocation\n",
    "    shares_to_buy = (allocation) / combined_data_begin['Close_Value'][i]\n",
    "    shares_to_buy_list.append(shares_to_buy)\n",
    "    print(shares_to_buy)\n",
    "\n",
    "    # Calculate the value of the stock of the purchased shares\n",
    "    value_of_stock = shares_to_buy * combined_data_begin['Close_Value'][i]\n",
    "    print(value_of_stock)\n",
    "    \n",
    "    # Add the value of the purchased share to the portfolio\n",
    "    portfolio_value += value_of_stock\n",
    "    print(portfolio_value)\n",
    "    print(\"-----------------------------\")\n",
    "\n",
    "# Output of the total value of the portfolio at the end of the period to be predicted\n",
    "print(\"Gesamtwert des Portfolios am Ende des ersten Monats von 2019:\", portfolio_value)\n",
    "print(shares_to_buy_list)"
   ]
  },
  {
   "cell_type": "code",
   "execution_count": 19,
   "id": "53ca2fd0",
   "metadata": {},
   "outputs": [
    {
     "name": "stdout",
     "output_type": "stream",
     "text": [
      "218.3999938964844\n",
      "5.594030846996687e-06\n",
      "0.001221736302840822\n",
      "----------------------------\n",
      "6.916999816894531\n",
      "15.832342269131015\n",
      "109.51353031289362\n",
      "----------------------------\n",
      "176.24000549316406\n",
      "7.51084210869896e-07\n",
      "109.51366268397908\n",
      "----------------------------\n",
      "73.13999938964844\n",
      "0.0\n",
      "109.51366268397908\n",
      "----------------------------\n",
      "289.79998779296875\n",
      "0.0\n",
      "109.51366268397908\n",
      "----------------------------\n",
      "106.6500015258789\n",
      "3.322361998076513e-06\n",
      "109.51401701389125\n",
      "----------------------------\n",
      "13.6899995803833\n",
      "0.0\n",
      "109.51401701389125\n",
      "----------------------------\n",
      "120.31999969482422\n",
      "6.031171041021077e-06\n",
      "109.51474268438906\n",
      "----------------------------\n",
      "41.45000076293945\n",
      "7.258096960920148e-06\n",
      "109.51504353251363\n",
      "----------------------------\n",
      "67.3499984741211\n",
      "2.2430769862446404e-06\n",
      "109.51519460374523\n",
      "----------------------------\n",
      "9.52400016784668\n",
      "23.078461236072346\n",
      "329.31446328974135\n",
      "----------------------------\n",
      "27.350000381469727\n",
      "0.0\n",
      "329.31446328974135\n",
      "----------------------------\n",
      "101.0\n",
      "6.905968997756182\n",
      "1026.8173320631158\n",
      "----------------------------\n",
      "Wert des Portfolios:\n",
      "1026.8173320631158\n"
     ]
    }
   ],
   "source": [
    "# Define portfolio value\n",
    "new_portfolio_value = 0\n",
    "# Loop over the indices of the two lists\n",
    "for i in range(len(shares_to_buy_list)):\n",
    "    # convert to float\n",
    "    last_close_value = float(last_close_values[i][1])\n",
    "    print(last_close_value)\n",
    "    print(shares_to_buy_list[i])\n",
    "    #Calculate the new value of the share and add the value to the list\n",
    "    new_portfolio_value += (last_close_value * shares_to_buy_list[i])\n",
    "    print(new_portfolio_value)\n",
    "    print(\"----------------------------\")\n",
    "\n",
    "print(\"Wert des Portfolios:\")\n",
    "print(new_portfolio_value)"
   ]
  }
 ],
 "metadata": {
  "kernelspec": {
   "display_name": "Python 3 (ipykernel)",
   "language": "python",
   "name": "python3"
  },
  "language_info": {
   "codemirror_mode": {
    "name": "ipython",
    "version": 3
   },
   "file_extension": ".py",
   "mimetype": "text/x-python",
   "name": "python",
   "nbconvert_exporter": "python",
   "pygments_lexer": "ipython3",
   "version": "3.10.9"
  }
 },
 "nbformat": 4,
 "nbformat_minor": 5
}
